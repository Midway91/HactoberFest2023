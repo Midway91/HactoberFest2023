{
 "cells": [
  {
   "cell_type": "markdown",
   "metadata": {},
   "source": [
    "# This notebook contains basic python"
   ]
  },
  {
   "cell_type": "markdown",
   "metadata": {},
   "source": [
    "# Basics"
   ]
  },
  {
   "cell_type": "code",
   "execution_count": 2,
   "metadata": {},
   "outputs": [
    {
     "name": "stdout",
     "output_type": "stream",
     "text": [
      "Hello world\n",
      "**********\n"
     ]
    }
   ],
   "source": [
    "#first code \n",
    "print(\"Hello world\")\n",
    "print(\"*\" * 10) # this is expression inside the paranthesis"
   ]
  },
  {
   "cell_type": "code",
   "execution_count": 6,
   "metadata": {},
   "outputs": [
    {
     "name": "stdout",
     "output_type": "stream",
     "text": [
      "10\n",
      "harsh 4.9 is smart True\n"
     ]
    }
   ],
   "source": [
    "#variables \n",
    "price = 10  #first it conveted into binary to store in memory\n",
    "rating = 4.9\n",
    "name = \"harsh\"\n",
    "is_smart = True\n",
    "print(price)\n",
    "print(name, rating,\"is smart\",is_smart )"
   ]
  },
  {
   "cell_type": "code",
   "execution_count": 1,
   "metadata": {},
   "outputs": [
    {
     "name": "stdout",
     "output_type": "stream",
     "text": [
      "Hi harsh\n"
     ]
    }
   ],
   "source": [
    "#Inputs\n",
    "name = input('what is your name? ')\n",
    "print(\"Hi \"+ name)"
   ]
  },
  {
   "cell_type": "code",
   "execution_count": 3,
   "metadata": {},
   "outputs": [
    {
     "name": "stdout",
     "output_type": "stream",
     "text": [
      "<class 'str'>\n",
      "<class 'int'>\n",
      "16\n"
     ]
    }
   ],
   "source": [
    "#type conversion \\\n",
    "brith_year = input('Birth year: ')\n",
    "print(type(brith_year))\n",
    "age = 2023 - int(brith_year)\n",
    "print(type(age))\n",
    "print(age)"
   ]
  },
  {
   "cell_type": "code",
   "execution_count": 4,
   "metadata": {},
   "outputs": [
    {
     "name": "stdout",
     "output_type": "stream",
     "text": [
      "166.66666666666666\n"
     ]
    }
   ],
   "source": [
    "#exercise one \n",
    "weight_Kg = int(input(\"enter your weight in kg \"))\n",
    "weight_lbs = weight_Kg / 0.45\n",
    "print(weight_lbs)"
   ]
  },
  {
   "cell_type": "markdown",
   "metadata": {},
   "source": [
    "## Strings"
   ]
  },
  {
   "cell_type": "code",
   "execution_count": 10,
   "metadata": {},
   "outputs": [
    {
     "name": "stdout",
     "output_type": "stream",
     "text": [
      "\n",
      "Hi everyone \n",
      "This is harsh shrivastava\n",
      "\n",
      "r\n",
      "t\n",
      "\n",
      "Hi eve\n",
      "\n",
      "Hi everyone \n",
      "This is harsh shrivastava\n",
      "\n",
      "\n",
      "Hi every\n",
      "ars\n"
     ]
    }
   ],
   "source": [
    "#strings - use case of '' and \"\"\n",
    "string = \"arin's girlfriend\"\n",
    "string = 'girlfriend of \"arin\"'\n",
    "\n",
    "#string in multiline\n",
    "string= '''\n",
    "Hi everyone \n",
    "This is harsh shrivastava\n",
    "'''\n",
    "#indexing goes like 0,1,2,3,4,5,6,...\n",
    "print(string)\n",
    "print(string[7])\n",
    "#negative indexing - since index of first is 0 hence last index is known as -1 index\n",
    "print(string[-5])\n",
    "#using [0:2] type indexing \n",
    "#this start the indexing from one all the way to index 1 but exclude 2\n",
    "print(string[0:7])\n",
    "print(string[0:]) # print all the char upto the end\n",
    "print(string[:9]) #assume start as 0 and take that upto 9\n",
    "#note \n",
    "#print(course)==print(course[:])\n",
    "string='harsh'\n",
    "print(name[1:-1])\n"
   ]
  },
  {
   "cell_type": "markdown",
   "metadata": {},
   "source": [
    "## Formatted string"
   ]
  },
  {
   "cell_type": "code",
   "execution_count": 12,
   "metadata": {},
   "outputs": [
    {
     "name": "stdout",
     "output_type": "stream",
     "text": [
      "harsh [shrivastava] is a coder\n",
      "harsh [shrivastava] is a coder\n"
     ]
    }
   ],
   "source": [
    "first = \"harsh\"\n",
    "last = \"shrivastava\"\n",
    "message = first + ' [' + last +'] is a coder'\n",
    "print(message) \n",
    "msg = f'{first} [{last}] is a coder'\n",
    "print(msg)"
   ]
  },
  {
   "cell_type": "markdown",
   "metadata": {},
   "source": [
    "## String Methods"
   ]
  },
  {
   "cell_type": "code",
   "execution_count": 18,
   "metadata": {},
   "outputs": [
    {
     "name": "stdout",
     "output_type": "stream",
     "text": [
      "27\n",
      "DOES ARIN HAVE A GIRLFRIEND\n",
      "does arin have a girlfriend\n",
      "17\n",
      "yes, arin have a girlfriend\n",
      "does Arin hAve A girlfriend\n",
      "True\n"
     ]
    }
   ],
   "source": [
    "string = \"does arin have a girlfriend\"\n",
    "print(len(string)) #gives lenght \n",
    "print(string.upper()) #return string in uuper case \n",
    "print(string.lower()) #return sting in lower case\n",
    "#this does't change original string infact return a duplicate string\n",
    "print(string.find('girlfriend'))\n",
    "print(string.replace('does','yes,'))\n",
    "print(string.replace('a', 'A'))\n",
    "print('arin' in string) #CASE SENSITIVE\n"
   ]
  },
  {
   "cell_type": "markdown",
   "metadata": {},
   "source": [
    "# Arithemtic Operations "
   ]
  },
  {
   "cell_type": "code",
   "execution_count": null,
   "metadata": {},
   "outputs": [],
   "source": [
    "'''\n",
    "+\n",
    "-\n",
    "*\n",
    "/   # returns a float\n",
    "//  # returns an int\n",
    "%   # returns the remainder of division\n",
    "**  # exponentiation - x ** y = x to the power of y\n",
    "\n",
    "Augmented assignment operator:\n",
    "x = x + 10\n",
    "x += 10\n",
    "\n",
    "Operator precedence:\n",
    "1. parenthesis\n",
    "2. exponentiation\n",
    "3. multiplication / division\n",
    "4. addition / subtraction\n",
    "'''"
   ]
  },
  {
   "cell_type": "markdown",
   "metadata": {},
   "source": [
    "# Basic of Math"
   ]
  },
  {
   "cell_type": "code",
   "execution_count": 17,
   "metadata": {},
   "outputs": [
    {
     "name": "stdout",
     "output_type": "stream",
     "text": [
      "4\n",
      "-3\n",
      "2.9\n",
      "3\n",
      "2\n",
      "9.0\n",
      "10\n"
     ]
    }
   ],
   "source": [
    "#math functions\n",
    "import math\n",
    "x = 4.5\n",
    "print(round(x)) \n",
    "x= -2.9\n",
    "print(round(x)) #round off\n",
    "print(abs(x)) #absolute\n",
    "print(math.ceil(2.9)) # ceil\n",
    "print(math.floor(2.9)) # floor\n",
    "x=3\n",
    "print(math.pow(x, 2)) # power\n",
    "print(math.comb(5,3)) # combinations\n",
    "\n",
    "#more func in math module"
   ]
  },
  {
   "cell_type": "markdown",
   "metadata": {},
   "source": [
    "# If statement"
   ]
  },
  {
   "cell_type": "code",
   "execution_count": 24,
   "metadata": {},
   "outputs": [
    {
     "name": "stdout",
     "output_type": "stream",
     "text": [
      "It's a hot day\n",
      "Eligible for loan\n"
     ]
    }
   ],
   "source": [
    "is_hot =True\n",
    "is_cold = True\n",
    "if is_hot:\n",
    "    print(\"It's a hot day\")\n",
    "elif is_cold:\n",
    "    print(\"It's a cold day\")\n",
    "else:\n",
    "    print(\"It's a rainy day\")\n",
    "\n",
    "#logical operator\n",
    "has_high_income = True\n",
    "has_good_credit = True\n",
    "\n",
    "if has_high_income and has_good_credit:\n",
    "    print(\"Eligible for loan\")\n",
    "\n",
    "#other operator \n",
    "# OR  anyone\n",
    "# NOT alterone\n",
    "# AND Both"
   ]
  },
  {
   "cell_type": "markdown",
   "metadata": {},
   "source": [
    "# Loops"
   ]
  },
  {
   "cell_type": "code",
   "execution_count": 26,
   "metadata": {},
   "outputs": [
    {
     "name": "stdout",
     "output_type": "stream",
     "text": [
      "1\n",
      "2\n",
      "3\n",
      "4\n",
      "1\n",
      "2\n",
      "3\n",
      "4\n",
      "(0,0)\n",
      "(0,1)\n",
      "(1,0)\n",
      "(1,1)\n",
      "(2,0)\n",
      "(2,1)\n"
     ]
    }
   ],
   "source": [
    "# While Loop\n",
    "i = 1\n",
    "while i < 5:\n",
    "    print(i)\n",
    "    i += 1\n",
    "\n",
    "# WHile loop can also have else part\n",
    "'''\n",
    "while condition\n",
    "    code\n",
    "    if condition\n",
    "        break\n",
    "else\n",
    "    code\n",
    "\n",
    "if while loop executed fully without the break then the else partt is executed\n",
    "'''\n",
    "\n",
    "\n",
    "# for loops\n",
    "for i in range(1, 5):\n",
    "     print(i)\n",
    "'''\n",
    "• range(5): generates 0, 1, 2, 3, 4\n",
    "• range(1, 5): generates 1, 2, 3, 4\n",
    "• range(1, 5, 2): generates 1, 3 \n",
    "'''\n",
    "\n",
    "# Nested Loop\n",
    "for i in range(3):\n",
    "    for o in range(2):\n",
    "        print(f'({i},{o})')"
   ]
  },
  {
   "cell_type": "markdown",
   "metadata": {},
   "source": [
    "# List\n",
    "A list is a data structure in Python that is a mutable, or changeable, ordered sequence of elements.\n",
    "A list in Python CAN contain different types of data"
   ]
  },
  {
   "cell_type": "code",
   "execution_count": null,
   "metadata": {},
   "outputs": [],
   "source": [
    "numbers = [1, 2, 3, 4, 5]\n",
    "numbers[0] # returns the first item\n",
    "numbers[1] # returns the second item\n",
    "numbers[-1] # returns the first item from the end\n",
    "numbers[-2] # returns the second item from the end\n",
    "\n",
    "numbers.append(6) # adds 6 to the end\n",
    "numbers.insert(0, 6) # adds 6 at index position of 0\n",
    "numbers.remove(6) # removes 6\n",
    "numbers.pop() # removes the last item\n",
    "numbers.clear() # removes all the items\n",
    "numbers.index(8) # returns the index of first occurrence of 8\n",
    "numbers.sort() # sorts the list\n",
    "numbers.reverse() # reverses the list\n",
    "numbers.copy() # returns a copy of the list\n",
    "\n",
    "matrix = [\n",
    "    [1,2,3],\n",
    "    [4,5,6],\n",
    "    [7,8,9]\n",
    "]\n",
    "matrix[0][1]\n",
    "\n",
    "#declaring an empty list\n",
    "empty = []\n",
    "empty = list()\n"
   ]
  },
  {
   "cell_type": "markdown",
   "metadata": {},
   "source": [
    "# Unpacking\n",
    "We can unpack a list or a tuple into separate variables: "
   ]
  },
  {
   "cell_type": "code",
   "execution_count": 1,
   "metadata": {},
   "outputs": [
    {
     "name": "stdout",
     "output_type": "stream",
     "text": [
      "3413 1231 123 [12, 2, 2, 2, 2, 2, 2, 2, 2]\n"
     ]
    }
   ],
   "source": [
    "coordinates = (1,2,3)\n",
    "x,y,z = coordinates\n",
    "\n",
    "#important eg\n",
    "a,b,c, *other = [3413,1231,123,12,2,2,2,2,2,2,2,2]\n",
    "print(a,b,c,other)\n",
    "# here othercontains all value starting form 12 upto end"
   ]
  },
  {
   "cell_type": "markdown",
   "metadata": {},
   "source": [
    "# Tuple\n",
    "They are like read-only lists. We use them to store a list of items. But once we define a tuple, we cannot add or remove items or change the existing items. "
   ]
  },
  {
   "cell_type": "code",
   "execution_count": null,
   "metadata": {},
   "outputs": [],
   "source": [
    "tuple = (1,2,3)\n",
    "\n",
    "# creating an empty tuple\n",
    "empty = ()\n",
    "empty = tuple()"
   ]
  },
  {
   "cell_type": "markdown",
   "metadata": {},
   "source": [
    "# Dictionary\n",
    "We use dictionaries to store key/value pairs.\n",
    "We can use strings or numbers to define keys. They should be unique. We can use\n",
    "any types for the values. \n",
    "\n",
    "### Is dictionary orderded?\n",
    "As of Python version 3.7, dictionaries are ordered. In Python 3.6 and earlier, dictionaries are unordered.\n",
    "\n",
    "When we say that dictionaries are ordered, it means that the items have a defined order, and that order will not change.\n",
    "\n",
    "Unordered means that the items does not have a defined order, you cannot refer to an item by using an index."
   ]
  },
  {
   "cell_type": "code",
   "execution_count": 21,
   "metadata": {},
   "outputs": [
    {
     "name": "stdout",
     "output_type": "stream",
     "text": [
      "John Smith\n",
      "True\n"
     ]
    }
   ],
   "source": [
    "customer = {\n",
    "    'name': 'John Smith',\n",
    "    'age': 30,\n",
    "    'is_verified': True\n",
    "}\n",
    "'''\n",
    "dictinooary=(key:value)\n",
    "name[key]\n",
    "name.get[key]\n",
    "'''\n",
    "print(customer['name'])\n",
    "print('name' in customer)\n",
    "\n",
    "#creating an empty dictionary\n",
    "empty=dict()\n",
    "empty={}"
   ]
  },
  {
   "cell_type": "markdown",
   "metadata": {},
   "source": [
    "# sets\n",
    "A Set in Python programming is an unordered collection data type that is iterable, mutable and has no duplicate elements."
   ]
  },
  {
   "cell_type": "code",
   "execution_count": 8,
   "metadata": {},
   "outputs": [
    {
     "name": "stdout",
     "output_type": "stream",
     "text": [
      "{1, 2, 3, 31}\n",
      "{1, 2, 3, 6, 31}\n",
      "{1, 3}\n",
      "{1, 2, 3, 6, 31}\n"
     ]
    }
   ],
   "source": [
    "#intialisation\n",
    "a1 = {1,3} # with curly braces\n",
    "\n",
    "# even if we try to initialise set and insert duplicate values in it we will have diff values and print values without repetetion\n",
    "a2 = {3,3,3,3,31,1,1,1,1,2,2,2,2}\n",
    "print(a2)\n",
    "a2.add(6)\n",
    "print(a2)\n",
    "\n",
    "print(a1&a2) #and of sets\n",
    "print(a1|a2) #or of sets"
   ]
  },
  {
   "cell_type": "markdown",
   "metadata": {},
   "source": [
    "# functions"
   ]
  },
  {
   "cell_type": "code",
   "execution_count": 4,
   "metadata": {},
   "outputs": [
    {
     "name": "stdout",
     "output_type": "stream",
     "text": [
      "hi arin\n",
      "congratulations! on pulling a girl\n",
      "hi abhishek\n",
      "congratulations! on pulling a girl\n",
      "hi divyat\n",
      "congratulations! on pulling a girl\n"
     ]
    }
   ],
   "source": [
    "def greet_user(name):#here it is parameter\n",
    "    print(f'hi {name}')\n",
    "    print(\"congratulations! on pulling a girl\")\n",
    "\n",
    "\n",
    "greet_user(\"arin\")#here it argument \n",
    "greet_user(\"abhishek\")\n",
    "greet_user(\"divyat\")\n"
   ]
  },
  {
   "cell_type": "code",
   "execution_count": null,
   "metadata": {},
   "outputs": [],
   "source": [
    "#keryword argument\n",
    "'''\n",
    "function(name,surname)\n",
    "\n",
    "while calling a function \n",
    "function(surname=shrivastava,name=harsh)\n",
    "now the position doesn't matter\n",
    "'''"
   ]
  },
  {
   "cell_type": "code",
   "execution_count": 5,
   "metadata": {},
   "outputs": [
    {
     "data": {
      "text/plain": [
       "81"
      ]
     },
     "execution_count": 5,
     "metadata": {},
     "output_type": "execute_result"
    }
   ],
   "source": [
    "#return\n",
    "def square(number):\n",
    "    return number*number\n",
    "square(9)\n",
    "print(square(8))\n",
    "\n",
    "#funciton can also be Return None"
   ]
  },
  {
   "cell_type": "markdown",
   "metadata": {},
   "source": [
    "# exception"
   ]
  },
  {
   "cell_type": "code",
   "execution_count": null,
   "metadata": {},
   "outputs": [],
   "source": [
    "try:\n",
    "    age = int(input('Age: '))\n",
    "    income = 2000\n",
    "    risk = income / age\n",
    "    print(age)\n",
    "except ZeroDivisionError:\n",
    "    print(\"age can't be zero\")\n",
    "except ValueError:\n",
    "    print('invalid Value')\n",
    "\n",
    "#0 means successful execution \n",
    "#1 means error"
   ]
  },
  {
   "cell_type": "markdown",
   "metadata": {},
   "source": [
    "# SLicing"
   ]
  },
  {
   "cell_type": "code",
   "execution_count": null,
   "metadata": {},
   "outputs": [],
   "source": [
    "nums = range(5) # range is a built-in function that creates a list of␣\n",
    "#,→integers\n",
    "print nums # Prints \"[0, 1, 2, 3, 4]\"\n",
    "print nums[2:4] # Get a slice from index 2 to 4 (exclusive); prints \"[2, 3]\"\n",
    "print nums[2:] # Get a slice from index 2 to the end; prints \"[2, 3, 4]\"\n",
    "print nums[:2] # Get a slice from the start to index 2 (exclusive); prints␣\n",
    "#,→\"[0, 1]\"\n",
    "print nums[:] # Get a slice of the whole list; prints [\"0, 1, 2, 3, 4]\"\n",
    "print nums[:-1] # Slice indices can be negative; prints [\"0, 1, 2, 3]\"\n",
    "nums[2:4] = [8, 9] # Assign a new sublist to a slice\n",
    "print nums # Prints \"[0, 1, 8, 9, 4]\""
   ]
  },
  {
   "cell_type": "markdown",
   "metadata": {},
   "source": [
    "# Enumerate\n",
    "The enumerate () method adds a counter to an iterable and returns it in the form of an enumerating object. This enumerated object can then be used directly for loops or converted into a list of tuples using the list() function."
   ]
  },
  {
   "cell_type": "code",
   "execution_count": 18,
   "metadata": {},
   "outputs": [
    {
     "name": "stdout",
     "output_type": "stream",
     "text": [
      "Return type: <class 'enumerate'>\n",
      "[(0, 'eat'), (1, 'sleep'), (2, 'repeat')]\n",
      "[(2, 'g'), (3, 'e'), (4, 'e'), (5, 'k')]\n"
     ]
    }
   ],
   "source": [
    "l1 = [\"eat\", \"sleep\", \"repeat\"]\n",
    "s1 = \"geek\"\n",
    " \n",
    "# creating enumerate objects\n",
    "obj1 = enumerate(l1)\n",
    "obj2 = enumerate(s1)\n",
    " \n",
    "print (\"Return type:\", type(obj1))\n",
    "print (list(enumerate(l1)))\n",
    " \n",
    "# changing start index to 2 from 0\n",
    "print (list(enumerate(s1, 2)))"
   ]
  },
  {
   "cell_type": "code",
   "execution_count": 19,
   "metadata": {},
   "outputs": [
    {
     "name": "stdout",
     "output_type": "stream",
     "text": [
      "(0, 'eat')\n",
      "(1, 'sleep')\n",
      "(2, 'repeat')\n",
      "100 eat\n",
      "101 sleep\n",
      "102 repeat\n",
      "0\n",
      "eat\n",
      "1\n",
      "sleep\n",
      "2\n",
      "repeat\n"
     ]
    }
   ],
   "source": [
    "l1 = [\"eat\", \"sleep\", \"repeat\"]\n",
    " \n",
    "# printing the tuples in object directly\n",
    "for ele in enumerate(l1):\n",
    "    print (ele)\n",
    " \n",
    "# changing index and printing separately\n",
    "for count, ele in enumerate(l1, 100):\n",
    "    print (count, ele)\n",
    " \n",
    "# getting desired output from tuple\n",
    "for count, ele in enumerate(l1):\n",
    "    print(count)\n",
    "    print(ele)"
   ]
  },
  {
   "cell_type": "markdown",
   "metadata": {},
   "source": [
    "# classes"
   ]
  },
  {
   "cell_type": "code",
   "execution_count": 25,
   "metadata": {},
   "outputs": [
    {
     "name": "stdout",
     "output_type": "stream",
     "text": [
      "Hello, Fred\n",
      "HELLO, FRED!\n"
     ]
    }
   ],
   "source": [
    "class Greeter:\n",
    "    # Constructor\n",
    "    def __init__(self, name):\n",
    "        self.name = name # Create an instance variable\n",
    "    # Instance method\n",
    "    def greet(self, loud=False):\n",
    "        if loud:\n",
    "            print('HELLO, %s!' % self.name.upper())\n",
    "        else:\n",
    "            print('Hello, %s' % self.name)\n",
    "g = Greeter('Fred') # Construct an instance of the Greeter class\n",
    "g.greet() # Call an instance method; prints \"Hello, Fred\"\n",
    "g.greet(loud=True) # Call an instance method; prints \"HELLO, FRED!\"\n"
   ]
  }
 ],
 "metadata": {
  "kernelspec": {
   "display_name": "Python 3",
   "language": "python",
   "name": "python3"
  },
  "language_info": {
   "codemirror_mode": {
    "name": "ipython",
    "version": 3
   },
   "file_extension": ".py",
   "mimetype": "text/x-python",
   "name": "python",
   "nbconvert_exporter": "python",
   "pygments_lexer": "ipython3",
   "version": "3.11.2"
  },
  "orig_nbformat": 4
 },
 "nbformat": 4,
 "nbformat_minor": 2
}
