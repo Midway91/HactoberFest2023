{
  "cells": [
    {
      "cell_type": "markdown",
      "metadata": {
        "colab_type": "text",
        "id": "view-in-github"
      },
      "source": [
        "<a href=\"https://colab.research.google.com/github/ilhamydn17/2141720091-MachLearn-2023/blob/week-09/Tugas_ANN_09.ipynb\" target=\"_parent\"><img src=\"https://colab.research.google.com/assets/colab-badge.svg\" alt=\"Open In Colab\"/></a>"
      ]
    },
    {
      "cell_type": "markdown",
      "metadata": {
        "id": "Sn9Bbztazwfa"
      },
      "source": [
        "## Klasifikasi Dataset MNIST dengan Artificial Neural Network"
      ]
    },
    {
      "cell_type": "markdown",
      "metadata": {
        "id": "hdOSR2XNz-qq"
      },
      "source": [
        "### Tujuan\n",
        "Tujuan dari klasifikasi ini adalah untuk melatih model ANN agar dapat mengenali gambar digit angka tulisan tangan yang ada di dataset MNIST."
      ]
    },
    {
      "cell_type": "markdown",
      "metadata": {
        "id": "wy8d8tw90ctT"
      },
      "source": [
        "### 1. Import Library"
      ]
    },
    {
      "cell_type": "code",
      "execution_count": 1,
      "metadata": {
        "id": "lVHhOlykgbs9"
      },
      "outputs": [],
      "source": [
        "import cv2 as cv\n",
        "import numpy as np\n",
        "import tensorflow as tfl\n",
        "import matplotlib.pyplot as plt"
      ]
    },
    {
      "cell_type": "markdown",
      "metadata": {
        "id": "7ItHheNW01WC"
      },
      "source": [
        "### 2. Loading Dataset\n",
        "Mengakses objek MNIST dari keras.datasets. MNIST memiliki 60.000 data training dan 10.000 data testing. Gambar yang ada pada dataset tersebut memiliki resolusi 28x28 pixel.\n",
        "\n",
        "Dengan memanggil *load_function()*, maka akan otomatis melakukan split data berdasarkan data training dan data testing."
      ]
    },
    {
      "cell_type": "code",
      "execution_count": 2,
      "metadata": {
        "id": "9lGyFl8d03bn"
      },
      "outputs": [],
      "source": [
        "(X_train, y_train), (X_test, y_test) = tfl.keras.datasets.mnist.load_data()"
      ]
    },
    {
      "cell_type": "code",
      "execution_count": 3,
      "metadata": {
        "colab": {
          "base_uri": "https://localhost:8080/"
        },
        "id": "-fiwRX1s2DFc",
        "outputId": "3ba34147-5a4a-4ba8-f227-7a71ef834a15"
      },
      "outputs": [
        {
          "name": "stdout",
          "output_type": "stream",
          "text": [
            "Image input shape :  (60000, 28, 28)\n",
            "Image shape of training label :  (60000,)\n",
            "Image testing shape :  (10000, 28, 28)\n",
            "Image shape of testing label :  (10000,)\n"
          ]
        }
      ],
      "source": [
        "# show image input shape\n",
        "print('Image input shape : ', X_train.shape)\n",
        "# show shape of training label\n",
        "print('Image shape of training label : ', y_train.shape)\n",
        "# show image testing shape\n",
        "print('Image testing shape : ', X_test.shape)\n",
        "# show shape of testing labels\n",
        "print('Image shape of testing label : ', y_test.shape)"
      ]
    },
    {
      "cell_type": "markdown",
      "metadata": {
        "id": "UbMbcHvq40H2"
      },
      "source": [
        "### 3. Plotting Data"
      ]
    },
    {
      "cell_type": "code",
      "execution_count": 4,
      "metadata": {
        "colab": {
          "base_uri": "https://localhost:8080/",
          "height": 433
        },
        "id": "feN8FtN142HP",
        "outputId": "a25c8404-7339-431c-9c84-a60d4f2880fc"
      },
      "outputs": [
        {
          "data": {
            "image/png": "[encoded data removed]",
            "text/plain": [
              "<Figure size 640x480 with 9 Axes>"
            ]
          },
          "metadata": {},
          "output_type": "display_data"
        }
      ],
      "source": [
        "# plotting 9 gambar pertama pada data train dari MNIST\n",
        "fig, ax = plt.subplots(3,3)\n",
        "count = 0\n",
        "for i in range(3):\n",
        "  for j in range(3):\n",
        "    ax[i,j].imshow(X_train[count])\n",
        "    count += 1"
      ]
    },
    {
      "cell_type": "markdown",
      "metadata": {
        "id": "9TYBmsJb5iKy"
      },
      "source": [
        "### 4. Normalisasi Data\n",
        "\n",
        "Melakukan normalisasi menggunakan function **keras.utils** dengan memperkecil semua nilai sehingga nilainya berada di antara 0 dan 1."
      ]
    },
    {
      "cell_type": "code",
      "execution_count": 5,
      "metadata": {
        "id": "2XSESBy75kyo"
      },
      "outputs": [],
      "source": [
        "X_train_norm = tfl.keras.utils.normalize(X_train, axis=1)\n",
        "X_test_norm = tfl.keras.utils.normalize(X_test, axis=1)"
      ]
    },
    {
      "cell_type": "markdown",
      "metadata": {
        "id": "HslsHxAi6o0t"
      },
      "source": [
        "### 5. Membuat Model Neural Network\n"
      ]
    },
    {
      "cell_type": "code",
      "execution_count": 6,
      "metadata": {
        "id": "EKt2ughG6tGn"
      },
      "outputs": [],
      "source": [
        "ann_model = tfl.keras.models.Sequential()"
      ]
    },
    {
      "cell_type": "markdown",
      "metadata": {
        "id": "b5RacVZa9Ilg"
      },
      "source": [
        "Model yang dibuat pertama kali ini belum memiliki layer, maka pada langkah selanjutnya adalah menambahkan layer ke model ANN yang sudah diinisialisasi."
      ]
    },
    {
      "cell_type": "markdown",
      "metadata": {
        "id": "NAtFM2VV7A4c"
      },
      "source": [
        "### 6. Membuat Layer Input"
      ]
    },
    {
      "cell_type": "code",
      "execution_count": 7,
      "metadata": {
        "id": "ic57eMaV7IBB"
      },
      "outputs": [],
      "source": [
        "# input layer\n",
        "ann_model.add(tfl.keras.layers.Flatten(input_shape=(28, 28)))"
      ]
    },
    {
      "cell_type": "markdown",
      "metadata": {
        "id": "dEcmdvMb8CWS"
      },
      "source": [
        "Pada tahap di atas, dilakukan perintah untuk spesfikasi bentuk input gambar yaitu (28,28), yang merepresentasikan resolusi gambar pada dataset yaitu 28x28 pixel.\n",
        "Flattened layer akan meratakan masukan dan menjadikannya satu dimensi.Maka, grid gambar yang awalnya 28x28 akan menjadi 784 neuron yang berbaris."
      ]
    },
    {
      "cell_type": "markdown",
      "metadata": {
        "id": "xLu93L2W8_Yw"
      },
      "source": [
        "### 7. Membuat Layer Kedua dan Ketiga"
      ]
    },
    {
      "cell_type": "code",
      "execution_count": 8,
      "metadata": {
        "id": "s3irHpnR9EGG"
      },
      "outputs": [],
      "source": [
        "# layer hidden pertama\n",
        "ann_model.add(tfl.keras.layers.Dense(units=128, activation=tfl.nn.relu))\n",
        "\n",
        "# layer hidden kedua\n",
        "ann_model.add(tfl.keras.layers.Dense(units=128, activation=tfl.nn.relu))"
      ]
    },
    {
      "cell_type": "markdown",
      "metadata": {
        "id": "btAqMXdx99eg"
      },
      "source": [
        "Pada tahap ini ditambahkan 2 hidden layer yang pada masing-masing layernya memiliki 128 neuron. Tiap-tiap layer menggunakan activation function yang berjenis **ReLU function**."
      ]
    },
    {
      "cell_type": "markdown",
      "metadata": {
        "id": "Jcm61yuQ-fq3"
      },
      "source": [
        "### 8. Membuat Layer Output"
      ]
    },
    {
      "cell_type": "code",
      "execution_count": 9,
      "metadata": {
        "id": "htkcs5Sb-h_t"
      },
      "outputs": [],
      "source": [
        "# output layer ann_model\n",
        "ann_model.add(tfl.keras.layers.Dense(units=10, activation=tfl.nn.softmax))"
      ]
    },
    {
      "cell_type": "markdown",
      "metadata": {
        "id": "Ca7Cr_yT-yEn"
      },
      "source": [
        "Pada layer yang terakhir atau layer output terdapat 10 neuron, dan pada layer output ini menggunakan activation function yang berbeda dari layer yang sebelumnya.\n",
        "Jumlah 10 neuron merepresentasikan model hasil yang diinginkan (angka 0-9) dengan keyakinan bahwa jumlah tersebut adalah klasifikasi yang tepat."
      ]
    },
    {
      "cell_type": "code",
      "execution_count": 10,
      "metadata": {
        "colab": {
          "base_uri": "https://localhost:8080/"
        },
        "id": "qNmLAaAZ_spC",
        "outputId": "9c385767-94c8-47af-f84e-d4e22176218e"
      },
      "outputs": [
        {
          "name": "stdout",
          "output_type": "stream",
          "text": [
            "Model: \"sequential\"\n",
            "_________________________________________________________________\n",
            " Layer (type)                Output Shape              Param #   \n",
            "=================================================================\n",
            " flatten (Flatten)           (None, 784)               0         \n",
            "                                                                 \n",
            " dense (Dense)               (None, 128)               100480    \n",
            "                                                                 \n",
            " dense_1 (Dense)             (None, 128)               16512     \n",
            "                                                                 \n",
            " dense_2 (Dense)             (None, 10)                1290      \n",
            "                                                                 \n",
            "=================================================================\n",
            "Total params: 118282 (462.04 KB)\n",
            "Trainable params: 118282 (462.04 KB)\n",
            "Non-trainable params: 0 (0.00 Byte)\n",
            "_________________________________________________________________\n"
          ]
        }
      ],
      "source": [
        "ann_model.summary()"
      ]
    },
    {
      "cell_type": "markdown",
      "metadata": {
        "id": "69Di8-O5AVs1"
      },
      "source": [
        "### 9. Compile Model ANN"
      ]
    },
    {
      "cell_type": "markdown",
      "metadata": {
        "id": "ZFSvlxWnAaig"
      },
      "source": [
        "Sebelum mulai melakukan train dan testing model, perlu untuk mengkompilasinya terlebih dahulu, yang mana kompilasi ini bertujuan untuk menyatukan arsitektur ANN."
      ]
    },
    {
      "cell_type": "code",
      "execution_count": 13,
      "metadata": {
        "id": "IJTqbsFGBagh"
      },
      "outputs": [],
      "source": [
        "ann_model.compile(optimizer='adam', loss='sparse_categorical_crossentropy', metrics=['accuracy'])"
      ]
    },
    {
      "cell_type": "markdown",
      "metadata": {
        "id": "KFkKSR5vB5PV"
      },
      "source": [
        "### 10. Training dan Testing"
      ]
    },
    {
      "cell_type": "markdown",
      "metadata": {
        "id": "e0lgAujPCPUj"
      },
      "source": [
        "#### Melakukan training\n",
        "Training model ANN yang telahh dibuat dan dikompilasi, dengan epoch 10, dan batch_size 100."
      ]
    },
    {
      "cell_type": "code",
      "execution_count": 14,
      "metadata": {
        "colab": {
          "base_uri": "https://localhost:8080/"
        },
        "id": "TVR_qQI2B9dt",
        "outputId": "002c9a80-5aab-4982-d510-18b22d55a612"
      },
      "outputs": [
        {
          "name": "stdout",
          "output_type": "stream",
          "text": [
            "Epoch 1/10\n",
            "600/600 [==============================] - 5s 7ms/step - loss: 2.4577 - accuracy: 0.8728\n",
            "Epoch 2/10\n",
            "600/600 [==============================] - 3s 5ms/step - loss: 0.4849 - accuracy: 0.9313\n",
            "Epoch 3/10\n",
            "600/600 [==============================] - 3s 5ms/step - loss: 0.2956 - accuracy: 0.9470\n",
            "Epoch 4/10\n",
            "600/600 [==============================] - 3s 5ms/step - loss: 0.2221 - accuracy: 0.9555\n",
            "Epoch 5/10\n",
            "600/600 [==============================] - 4s 6ms/step - loss: 0.1792 - accuracy: 0.9620\n",
            "Epoch 6/10\n",
            "600/600 [==============================] - 3s 4ms/step - loss: 0.1586 - accuracy: 0.9643\n",
            "Epoch 7/10\n",
            "600/600 [==============================] - 3s 5ms/step - loss: 0.1384 - accuracy: 0.9672\n",
            "Epoch 8/10\n",
            "600/600 [==============================] - 3s 6ms/step - loss: 0.1287 - accuracy: 0.9701\n",
            "Epoch 9/10\n",
            "600/600 [==============================] - 4s 6ms/step - loss: 0.1126 - accuracy: 0.9725\n",
            "Epoch 10/10\n",
            "600/600 [==============================] - 3s 5ms/step - loss: 0.0926 - accuracy: 0.9755\n"
          ]
        },
        {
          "data": {
            "text/plain": [
              "<keras.src.callbacks.History at 0x7d38dba5d0f0>"
            ]
          },
          "execution_count": 14,
          "metadata": {},
          "output_type": "execute_result"
        }
      ],
      "source": [
        "ann_model.fit(X_train, y_train, epochs=10, batch_size=100)"
      ]
    },
    {
      "cell_type": "markdown",
      "metadata": {
        "id": "iZAgLRvvD6SL"
      },
      "source": [
        "### 11. Evaluasi Model\n",
        "Menggunakan method evaluate() untuk mengetahui akurasi dan nilai loss."
      ]
    },
    {
      "cell_type": "code",
      "execution_count": 15,
      "metadata": {
        "colab": {
          "base_uri": "https://localhost:8080/"
        },
        "id": "G0zLy54tD_k3",
        "outputId": "931ac925-7005-479d-ee92-70ca08c43297"
      },
      "outputs": [
        {
          "name": "stdout",
          "output_type": "stream",
          "text": [
            "313/313 [==============================] - 1s 2ms/step - loss: 0.2604 - accuracy: 0.9550\n",
            "Loss :  0.26035988330841064\n",
            "Akurasi :  0.9549999833106995\n"
          ]
        }
      ],
      "source": [
        "loss, accuracy = ann_model.evaluate(X_test, y_test)\n",
        "print('Loss : ', loss)\n",
        "print('Akurasi : ', accuracy)"
      ]
    },
    {
      "cell_type": "markdown",
      "metadata": {
        "id": "n5YhgdJnEp1c"
      },
      "source": [
        "Nilai loss tersebut menggambarkan seberapa besar kesalahan antara output yang dihasilkan oleh neural network dengan output yang diharapkan. Pada hasil evaluasi di atas nilai **loss sekitar 26%**, dan **akurasi sebesar 95,4%**"
      ]
    },
    {
      "cell_type": "markdown",
      "metadata": {
        "id": "zm7WF4i-Glqi"
      },
      "source": [
        "### 12. Prediksi\n",
        "Menggunakan method predict() untuk membuat prediksi dari gambar-gambar dataset."
      ]
    },
    {
      "cell_type": "code",
      "execution_count": 40,
      "metadata": {
        "colab": {
          "base_uri": "https://localhost:8080/"
        },
        "id": "-5xp34fzGvR5",
        "outputId": "56f6aabf-2699-4df6-f672-7f3e13ba8042"
      },
      "outputs": [
        {
          "name": "stdout",
          "output_type": "stream",
          "text": [
            "313/313 [==============================] - 1s 2ms/step\n"
          ]
        },
        {
          "data": {
            "text/plain": [
              "array([[1.57804025e-16, 2.63763280e-17, 4.74000217e-08, ...,\n",
              "        9.99999940e-01, 1.53983797e-14, 2.25447647e-11],\n",
              "       [0.00000000e+00, 1.16612963e-15, 9.99999940e-01, ...,\n",
              "        2.42607423e-26, 4.83498630e-22, 0.00000000e+00],\n",
              "       [1.79980949e-15, 9.99977171e-01, 1.23092078e-10, ...,\n",
              "        2.10049620e-05, 2.38726745e-08, 2.97394019e-11],\n",
              "       ...,\n",
              "       [7.58436118e-23, 4.84364433e-22, 2.90691846e-21, ...,\n",
              "        3.49010043e-09, 2.92479774e-18, 4.79887463e-09],\n",
              "       [2.17358753e-29, 9.11857931e-33, 0.00000000e+00, ...,\n",
              "        2.01094803e-34, 1.85144462e-16, 0.00000000e+00],\n",
              "       [3.97738672e-18, 1.10171805e-14, 2.96016632e-18, ...,\n",
              "        1.35518029e-14, 1.35359015e-16, 8.79497266e-20]], dtype=float32)"
            ]
          },
          "execution_count": 40,
          "metadata": {},
          "output_type": "execute_result"
        }
      ],
      "source": [
        "y_pred = ann_model.predict(X_test)\n",
        "y_pred"
      ]
    },
    {
      "cell_type": "markdown",
      "metadata": {
        "id": "BrXCfYWKHC5L"
      },
      "source": [
        "* Prediksi ini terdiri dari sepuluh aktivasi atau probabilitas dari neuron keluaran.\n",
        "\n",
        "* Selanjutnya, menggunakan fungsi argmax. Fungsi ini mengembalikan indeks dengan nilai tertinggi."
      ]
    },
    {
      "cell_type": "code",
      "execution_count": 41,
      "metadata": {
        "colab": {
          "base_uri": "https://localhost:8080/"
        },
        "id": "bSqJXnQqHdc3",
        "outputId": "696888da-003c-4251-db64-a2801315c11d"
      },
      "outputs": [
        {
          "name": "stdout",
          "output_type": "stream",
          "text": [
            "Probabilitas  [6.5672121e-16 1.3956931e-12 7.0713564e-09 4.1788109e-05 1.3702009e-03\n",
            " 5.0143088e-11 2.0209438e-10 5.0864242e-09 3.5108808e-12 9.9858797e-01]\n",
            "\n",
            "\n",
            "Hasil Prediksi :  9\n"
          ]
        }
      ],
      "source": [
        "# prediction untuk salah satu gambar\n",
        "print('Probabilitas ', y_pred[7])\n",
        "print('\\n')\n",
        "print('Hasil Prediksi : ', np.argmax(y_pred[7]))"
      ]
    },
    {
      "cell_type": "code",
      "execution_count": 42,
      "metadata": {
        "colab": {
          "base_uri": "https://localhost:8080/",
          "height": 430
        },
        "id": "IDW_P2BdIApl",
        "outputId": "df0a92a3-b0f9-434b-f37d-dc48cffb62df"
      },
      "outputs": [
        {
          "data": {
            "image/png": "[encoded data removed]",
            "text/plain": [
              "<Figure size 640x480 with 1 Axes>"
            ]
          },
          "metadata": {},
          "output_type": "display_data"
        }
      ],
      "source": [
        "# hasil visualisasi gambar yang diprediksi\n",
        "plt.imshow(X_test[7])\n",
        "plt.show()"
      ]
    },
    {
      "cell_type": "code",
      "execution_count": 48,
      "metadata": {
        "colab": {
          "base_uri": "https://localhost:8080/",
          "height": 468
        },
        "id": "0uEJBzy8Ibcn",
        "outputId": "98e1175e-d083-4282-dd82-92d8129cede6"
      },
      "outputs": [
        {
          "data": {
            "image/png": "[encoded data removed]",
            "text/plain": [
              "<Figure size 500x500 with 2 Axes>"
            ]
          },
          "metadata": {},
          "output_type": "display_data"
        }
      ],
      "source": [
        "# Confusion Matrix\n",
        "from sklearn.metrics import confusion_matrix, accuracy_score\n",
        "import seaborn as sns\n",
        "\n",
        "# Confusion matrix\n",
        "cm = confusion_matrix(y_test, np.argmax(y_pred, axis=1))\n",
        "\n",
        "# Plot confusion matrix with sns\n",
        "plt.figure(figsize=(5, 5))\n",
        "sns.heatmap(cm, annot=True, fmt='d', cmap='Blues')\n",
        "plt.title('Confusion matrix')\n",
        "plt.show()"
      ]
    }
  ],
  "metadata": {
    "colab": {
      "authorship_tag": "ABX9TyM/gRlK9dvGZTUk2Bpjuils",
      "include_colab_link": true,
      "provenance": []
    },
    "kernelspec": {
      "display_name": "Python 3",
      "name": "python3"
    },
    "language_info": {
      "name": "python"
    }
  },
  "nbformat": 4,
  "nbformat_minor": 0
}
